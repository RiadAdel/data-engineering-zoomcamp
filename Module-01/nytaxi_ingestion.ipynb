{
 "cells": [
  {
   "cell_type": "code",
   "execution_count": null,
   "id": "82ced281-1384-451e-8877-52598b673df4",
   "metadata": {},
   "outputs": [],
   "source": [
    "import pandas as pd\n",
    "from sqlalchemy import create_engine"
   ]
  },
  {
   "cell_type": "markdown",
   "id": "4f8e1af0",
   "metadata": {},
   "source": [
    "Postgres Connection String"
   ]
  },
  {
   "cell_type": "code",
   "execution_count": null,
   "id": "4600ced1",
   "metadata": {},
   "outputs": [],
   "source": [
    "host = 'localhost'\n",
    "port = '5432'\n",
    "usr = 'root'\n",
    "pwd = 'root'\n",
    "db = 'ny_taxi'\n",
    "connection_string = f'postgresql://{usr}:{pwd}@{host}:{port}/{db}'\n",
    "engine = create_engine(connection_string)"
   ]
  },
  {
   "cell_type": "code",
   "execution_count": null,
   "id": "b9506b30",
   "metadata": {},
   "outputs": [],
   "source": [
    "connection = engine.connect()"
   ]
  },
  {
   "cell_type": "code",
   "execution_count": null,
   "id": "f78bc93e",
   "metadata": {},
   "outputs": [],
   "source": [
    "green_tripdata_path = './green_tripdata_2019-09.csv.gz'\n",
    "trip_df_schema = pd.read_csv(green_tripdata_path,compression='gzip',nrows=1000)"
   ]
  },
  {
   "cell_type": "code",
   "execution_count": null,
   "id": "59769162",
   "metadata": {},
   "outputs": [],
   "source": [
    "trip_df_schema['lpep_pickup_datetime'] = pd.to_datetime(trip_df_schema['lpep_pickup_datetime'])\n",
    "trip_df_schema['lpep_dropoff_datetime'] = pd.to_datetime(trip_df_schema['lpep_dropoff_datetime'])\n",
    "print(pd.io.sql.get_schema(trip_df_schema,name='green_taxi_data', con=engine))"
   ]
  },
  {
   "cell_type": "code",
   "execution_count": null,
   "id": "9bb41a19",
   "metadata": {},
   "outputs": [],
   "source": [
    "green_tripdata_iterator = pd.read_csv(green_tripdata_path,compression='gzip',chunksize=50_000)\n",
    "for chunck_df in green_tripdata_iterator:\n",
    "    chunck_df.to_sql(name=\"green_trip\",con=engine,if_exists='append')"
   ]
  },
  {
   "cell_type": "code",
   "execution_count": null,
   "id": "b110a4aa",
   "metadata": {},
   "outputs": [],
   "source": [
    "taxi_zone_lookup_path = './taxi+_zone_lookup.csv'\n",
    "taxi_zone_df = pd.read_csv(taxi_zone_lookup_path)"
   ]
  },
  {
   "cell_type": "code",
   "execution_count": null,
   "id": "c4f6ee87",
   "metadata": {},
   "outputs": [],
   "source": [
    "taxi_zone_df.to_sql(name='taxi_zone',con=engine,if_exists='replace')"
   ]
  }
 ],
 "metadata": {
  "kernelspec": {
   "display_name": "Python 3 (ipykernel)",
   "language": "python",
   "name": "python3"
  },
  "language_info": {
   "codemirror_mode": {
    "name": "ipython",
    "version": 3
   },
   "file_extension": ".py",
   "mimetype": "text/x-python",
   "name": "python",
   "nbconvert_exporter": "python",
   "pygments_lexer": "ipython3",
   "version": "3.10.13"
  }
 },
 "nbformat": 4,
 "nbformat_minor": 5
}
